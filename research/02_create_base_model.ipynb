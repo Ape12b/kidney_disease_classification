{
 "cells": [
  {
   "cell_type": "code",
   "execution_count": 8,
   "metadata": {},
   "outputs": [],
   "source": [
    "import os\n",
    "from pathlib import Path"
   ]
  },
  {
   "cell_type": "code",
   "execution_count": 5,
   "metadata": {},
   "outputs": [],
   "source": [
    "import tensorflow as tf"
   ]
  },
  {
   "cell_type": "code",
   "execution_count": 6,
   "metadata": {},
   "outputs": [
    {
     "name": "stdout",
     "output_type": "stream",
     "text": [
      "Downloading data from https://storage.googleapis.com/tensorflow/keras-applications/vgg16/vgg16_weights_tf_dim_ordering_tf_kernels.h5\n",
      "553467096/553467096 [==============================] - 6s 0us/step\n"
     ]
    }
   ],
   "source": [
    "vg_16 = tf.keras.applications.VGG16(\n",
    "    include_top=True,\n",
    "    weights=\"imagenet\",\n",
    "    input_tensor=None,\n",
    "    input_shape=None,\n",
    "    pooling=None,\n",
    "    classes=1000,\n",
    "    classifier_activation=\"softmax\",\n",
    ")"
   ]
  },
  {
   "cell_type": "code",
   "execution_count": 10,
   "metadata": {},
   "outputs": [],
   "source": [
    "# Update the entity\n",
    "from dataclasses import dataclass\n",
    "from pathlib import Path\n",
    "\n",
    "@dataclass (frozen=True)\n",
    "class PrepareBaseModelConfig:\n",
    "  root_dir: Path\n",
    "  base_model_path: Path\n",
    "  updated_base_model_path: Path\n",
    "  params_image_size: list\n",
    "  params_learning_rate: float\n",
    "  params_include_top: bool\n",
    "  params_weights: str\n",
    "  params_classes: int"
   ]
  },
  {
   "cell_type": "code",
   "execution_count": 11,
   "metadata": {},
   "outputs": [],
   "source": [
    "# Update configuration manager\n",
    "from cnnClassifier.constants import *\n",
    "from cnnClassifier.utils.common import read_yaml, create_directories"
   ]
  },
  {
   "cell_type": "code",
   "execution_count": 12,
   "metadata": {},
   "outputs": [],
   "source": [
    "class ConfigurationManager:\n",
    "    def __init__(self,\n",
    "                 config_path = CONFIG_FILE_PATH,\n",
    "                 params_path = PARAMS_FILE_PATH,\n",
    "                 ):\n",
    "        self.config = read_yaml(config_path)\n",
    "        self.params = read_yaml(params_path)\n",
    "        \n",
    "        create_directories([self.config.artifacts_root])\n",
    "    \n",
    "    def prepare_base_model_config(self) -> PrepareBaseModelConfig:\n",
    "        config =self.config.prepare_base_model\n",
    "        \n",
    "        create_directories([config.root_dir])\n",
    "        \n",
    "        base_model_config = PrepareBaseModelConfig(\n",
    "            root_dir=config.root_dir,\n",
    "            base_model_path=config.base_model_path,\n",
    "            updated_base_model_path=config.updated_model_path,\n",
    "            params_image_size=self.params.IMAGE_SIZE,\n",
    "            params_learning_rate=self.params.LEARNING_RATE,\n",
    "            params_include_top=self.params.INCLUDE_TOP,\n",
    "            params_weights=self.params.WEIGHTS,\n",
    "            params_classes=self.params.CLASSES,\n",
    "            \n",
    "        )\n",
    "        \n",
    "        return base_model_config"
   ]
  },
  {
   "cell_type": "code",
   "execution_count": 14,
   "metadata": {},
   "outputs": [],
   "source": [
    "# Create components\n",
    "\n",
    "import os\n",
    "import zipfile\n",
    "import tensorflow as tf"
   ]
  },
  {
   "cell_type": "code",
   "execution_count": 28,
   "metadata": {},
   "outputs": [],
   "source": [
    "class PrepareBaseModel:\n",
    "    def __init__(self, config: PrepareBaseModelConfig):\n",
    "        self.config = config\n",
    "    \n",
    "    def download(self):\n",
    "        '''\n",
    "        Fetch data from G-Drive\n",
    "        '''\n",
    "        self.model = tf.keras.applications.VGG16(\n",
    "            include_top=self.config.params_include_top,\n",
    "            weights=self.config.params_weights,\n",
    "            input_shape=self.config.params_image_size\n",
    "        )\n",
    "        self.save_model(path=self.config.base_model_path, model=self.model)\n",
    "    \n",
    "    def update(self):\n",
    "        self.updated_model=self._update_model(freeze_all=True,\n",
    "                                            freeze_till=0,\n",
    "                                            model=self.model,\n",
    "                                            classes=self.config.params_classes,\n",
    "                                            learning_rate=self.config.params_learning_rate)\n",
    "        self.save_model(path=self.config.updated_base_model_path, model=self.updated_model)\n",
    "    \n",
    "    @staticmethod\n",
    "    def _update_model(freeze_all: bool, \n",
    "                      freeze_till:int,\n",
    "                      model:tf.keras.Model,\n",
    "                      classes:int,\n",
    "                      learning_rate:float):\n",
    "        if freeze_all:\n",
    "            model.trainable = False\n",
    "        elif (freeze_till is not None) and (freeze_till > 0):\n",
    "            for layer in model.layers[:freeze_till]:\n",
    "                layer.trainable = True\n",
    "        \n",
    "        flatten_in=tf.keras.layers.Flatten()(model.output)\n",
    "        predictions=tf.keras.layers.Dense(\n",
    "            activation=\"softmax\",\n",
    "            units=classes\n",
    "        )(flatten_in)\n",
    "        \n",
    "        updated_model = tf.keras.models.Model(\n",
    "            inputs = flatten_in,\n",
    "            outputs = predictions\n",
    "        )\n",
    "        \n",
    "        updated_model.compile(\n",
    "            optimizer=tf.keras.optimizers.Adam(learning_rate=learning_rate),\n",
    "            loss=tf.keras.losses.CategoricalCrossentropy(),\n",
    "            metrics=[\"accuracy\"]\n",
    "        )\n",
    "        \n",
    "        updated_model.summary()\n",
    "        return updated_model\n",
    "        \n",
    "    @staticmethod\n",
    "    def save_model(path:Path, model:tf.keras.Model):\n",
    "        model.save(path)"
   ]
  },
  {
   "cell_type": "code",
   "execution_count": 29,
   "metadata": {},
   "outputs": [
    {
     "name": "stdout",
     "output_type": "stream",
     "text": [
      "[2023-12-19 12:43:29,756: INFO: common: yaml file: config\\config.yaml loaded successfully]\n",
      "[2023-12-19 12:43:29,757: INFO: common: yaml file: params.yaml loaded successfully]\n",
      "WARNING:tensorflow:Compiled the loaded model, but the compiled metrics have yet to be built. `model.compile_metrics` will be empty until you train or evaluate the model.\n",
      "[2023-12-19 12:43:29,968: WARNING: saving_utils: Compiled the loaded model, but the compiled metrics have yet to be built. `model.compile_metrics` will be empty until you train or evaluate the model.]\n",
      "[2023-12-19 12:43:30,498: WARNING: save: Found untraced functions such as _jit_compiled_convolution_op, _jit_compiled_convolution_op, _jit_compiled_convolution_op, _jit_compiled_convolution_op, _jit_compiled_convolution_op while saving (showing 5 of 13). These functions will not be directly callable after loading.]\n",
      "INFO:tensorflow:Assets written to: artifacts/base_model/raw/vgg16.hd5\\assets\n",
      "[2023-12-19 12:43:30,763: INFO: builder_impl: Assets written to: artifacts/base_model/raw/vgg16.hd5\\assets]\n",
      "Model: \"model_3\"\n",
      "_________________________________________________________________\n",
      " Layer (type)                Output Shape              Param #   \n",
      "=================================================================\n",
      " input_11 (InputLayer)       [(None, 25088)]           0         \n",
      "                                                                 \n",
      " dense_4 (Dense)             (None, 2)                 50178     \n",
      "                                                                 \n",
      "=================================================================\n",
      "Total params: 50,178\n",
      "Trainable params: 50,178\n",
      "Non-trainable params: 0\n",
      "_________________________________________________________________\n",
      "[2023-12-19 12:43:30,864: WARNING: save: Found untraced functions such as _update_step_xla while saving (showing 1 of 1). These functions will not be directly callable after loading.]\n",
      "INFO:tensorflow:Assets written to: artifacts/base_model/updated/vgg16_updated.hd5\\assets\n",
      "[2023-12-19 12:43:30,938: INFO: builder_impl: Assets written to: artifacts/base_model/updated/vgg16_updated.hd5\\assets]\n",
      "[2023-12-19 12:43:30,947: INFO: 3107103265: Base model pipeline succesful!]\n"
     ]
    }
   ],
   "source": [
    "# Updating pipeline\n",
    "from cnnClassifier.utils import logger\n",
    "try:\n",
    "    config = ConfigurationManager()\n",
    "    base_model_config = config.prepare_base_model_config()\n",
    "    base_model = PrepareBaseModel(base_model_config)\n",
    "    base_model.download()\n",
    "    base_model.update()\n",
    "    logger.info(f\"Base model pipeline succesful!\")\n",
    "except Exception as e:\n",
    "    raise e"
   ]
  },
  {
   "cell_type": "code",
   "execution_count": null,
   "metadata": {},
   "outputs": [],
   "source": []
  }
 ],
 "metadata": {
  "kernelspec": {
   "display_name": ".venv",
   "language": "python",
   "name": "python3"
  },
  "language_info": {
   "codemirror_mode": {
    "name": "ipython",
    "version": 3
   },
   "file_extension": ".py",
   "mimetype": "text/x-python",
   "name": "python",
   "nbconvert_exporter": "python",
   "pygments_lexer": "ipython3",
   "version": "3.11.7"
  }
 },
 "nbformat": 4,
 "nbformat_minor": 2
}
